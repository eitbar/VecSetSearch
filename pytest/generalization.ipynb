{
 "cells": [
  {
   "cell_type": "code",
   "execution_count": 5,
   "metadata": {},
   "outputs": [
    {
     "name": "stdout",
     "output_type": "stream",
     "text": [
      "10000\n"
     ]
    }
   ],
   "source": [
    "# how is the performance when generalizing to unseen queries?\n",
    "import numpy as np\n",
    "import matplotlib.pyplot as plt\n",
    "from tqdm import tqdm\n",
    "\n",
    "indices = np.load('indices_gene.npy')\n",
    "print(len(indices))"
   ]
  },
  {
   "cell_type": "code",
   "execution_count": 6,
   "metadata": {},
   "outputs": [
    {
     "name": "stdout",
     "output_type": "stream",
     "text": [
      "(101093, 4096)\n",
      "(36931, array([-0.09554937, -0.15751946,  0.08762093, ...,  0.03856422,\n",
      "       -0.04616511,  0.04637134], dtype=float32))\n"
     ]
    }
   ],
   "source": [
    "queries_dataset_path = '/ssddata/ytianbc/test/marco_embeddings/reshaped_queries_embeddings.npy' \n",
    "queries_dataset = np.load(queries_dataset_path)\n",
    "print(queries_dataset.shape)\n",
    "# index to seen queries\n",
    "seen_queries_doc = {}\n",
    "for i in indices:\n",
    "    seen_queries_doc[i] = queries_dataset[i]\n",
    "# print 字典里第一个元素\n",
    "print(list(seen_queries_doc.items())[0])"
   ]
  },
  {
   "cell_type": "code",
   "execution_count": 7,
   "metadata": {},
   "outputs": [
    {
     "name": "stdout",
     "output_type": "stream",
     "text": [
      "# unseen_indices : 900\n"
     ]
    }
   ],
   "source": [
    "\n",
    "indices_range = np.arange(queries_dataset.shape[0])\n",
    "# Randomly select 1000 indices\n",
    "# seed\n",
    "np.random.seed(0)\n",
    "random_indices = np.random.choice(indices_range, size=1000, replace=False)\n",
    "\n",
    "# 从random_indices中删除已经在indices中的索引\n",
    "unseen_indices = np.setdiff1d(random_indices, indices)\n",
    "print(f\"# unseen_indices : {len(unseen_indices)}\")"
   ]
  },
  {
   "cell_type": "code",
   "execution_count": 8,
   "metadata": {},
   "outputs": [
    {
     "name": "stderr",
     "output_type": "stream",
     "text": [
      "100%|██████████| 900/900 [00:51<00:00, 17.50it/s]\n"
     ]
    }
   ],
   "source": [
    "# 可以用一个index加速从seen queries里找到距离seen queries最近的seen query\n",
    "# 这里先用 brute force 搜索和每个unseen query最相似的seen queriese\n",
    "all_unseen_queries_similarities = {}\n",
    "for unseen_index in tqdm(unseen_indices):\n",
    "    unseen_query = queries_dataset[unseen_index]\n",
    "    # 计算unseen_query与所有seen_queries_doc里每个元素的inner product，并返回最大的inner product对应的seen query\n",
    "    similarity_doc = {}\n",
    "    for seen_index, seen_query in seen_queries_doc.items():\n",
    "        inner_product = np.inner(unseen_query, seen_query)\n",
    "        similarity_doc[seen_index] = inner_product\n",
    "    # 返回inner product最大的 k 个 seen queries\n",
    "    k = 10\n",
    "    top_k_similarities = sorted(similarity_doc.items(), key=lambda x: x[1], reverse=True)[:k]\n",
    "    all_unseen_queries_similarities[unseen_index] = top_k_similarities\n",
    "\n",
    "# save all_unseen_queries_similarities\n",
    "np.save('unseen_queries_2_seen_queries.npy', all_unseen_queries_similarities)\n",
    "        \n",
    "    "
   ]
  },
  {
   "cell_type": "code",
   "execution_count": 9,
   "metadata": {},
   "outputs": [],
   "source": [
    "import numpy as np\n",
    "A = np.load('A_gene.npy')\n",
    "B = np.load('B_gene.npy')\n",
    "data = np.load('data_gene.npy')\n",
    "mask = np.load('mask_gene.npy')\n",
    "unseen_queries_2_seen_queries = np.load('unseen_queries_2_seen_queries.npy', allow_pickle=True).item()\n",
    "masked_data = data * mask\n",
    "predictions =  masked_data + (1-mask)*np.dot(A, B.T)\n"
   ]
  },
  {
   "cell_type": "code",
   "execution_count": 10,
   "metadata": {},
   "outputs": [
    {
     "name": "stdout",
     "output_type": "stream",
     "text": [
      "(157, [(100496, 10.042875), (100320, 10.009841), (100509, 9.606818), (22365, 9.38015), (100661, 9.340762), (100431, 9.329152), (75454, 9.214527), (100619, 8.817043), (75419, 8.805049), (100288, 8.740952)])\n"
     ]
    }
   ],
   "source": [
    "# print 第一个 unseen_queries_2_seen_queries\n",
    "print(list(unseen_queries_2_seen_queries.items())[0])"
   ]
  },
  {
   "cell_type": "code",
   "execution_count": 11,
   "metadata": {},
   "outputs": [
    {
     "name": "stderr",
     "output_type": "stream",
     "text": [
      "100%|██████████| 10/10 [00:27<00:00,  2.79s/it]\n"
     ]
    },
    {
     "name": "stdout",
     "output_type": "stream",
     "text": [
      "(900, 100000)\n"
     ]
    }
   ],
   "source": [
    "from tqdm import tqdm\n",
    "# 指定文件范围\n",
    "start = 10000\n",
    "end = 100000\n",
    "step = 10000\n",
    "\n",
    "# 读取并拼接所有的.npy文件\n",
    "unseen_data = []\n",
    "for i in tqdm(range(start, end + 1, step)):\n",
    "    file = f'/ssddata/ytianbc/test/marco_embeddings/similarities_labels_{i}.npy'\n",
    "    arr = np.load(file)\n",
    "    arr = arr[unseen_indices]  # 选择随机的行\n",
    "    unseen_data.append(arr)\n",
    "\n",
    "# 按列拼接\n",
    "unseen_data = np.concatenate(unseen_data, axis=1)\n",
    "print(unseen_data.shape)\n",
    "\n",
    "k = 100  # number of top elements to select\n",
    "\n",
    "gt_top_k_indices = np.argpartition(unseen_data, -k, axis=1)[:, -k:]\n",
    "gt_top_k_values = np.take_along_axis(unseen_data, gt_top_k_indices, axis=1)\n"
   ]
  },
  {
   "cell_type": "code",
   "execution_count": 32,
   "metadata": {},
   "outputs": [
    {
     "name": "stderr",
     "output_type": "stream",
     "text": [
      "100%|██████████| 900/900 [00:31<00:00, 29.00it/s]"
     ]
    },
    {
     "name": "stdout",
     "output_type": "stream",
     "text": [
      "avg num of candidates: 7960.886666666666\n"
     ]
    },
    {
     "name": "stderr",
     "output_type": "stream",
     "text": [
      "\n"
     ]
    }
   ],
   "source": [
    "i = 0\n",
    "recall = 0\n",
    "k_cand = 1500\n",
    "num_cand = 0\n",
    "for unseen_idx, lst in tqdm(unseen_queries_2_seen_queries.items()):\n",
    "    result_per_query = set()\n",
    "    for seen_idx, _ in lst[:10]:\n",
    "        # 查找 seen_inx 在 indices 中的索引\n",
    "        seen_idx_local = np.where(indices == seen_idx)[0][0]\n",
    "        # 在 predictions[seen_idx_local] 中找到 top k 的索引\n",
    "        top_k_cand_idx = np.argpartition(predictions[seen_idx_local], -k_cand)[-k_cand:]\n",
    "        # 将 top k 的索引加入 result_per_query\n",
    "        result_per_query.update(top_k_cand_idx)\n",
    "    num_cand += len(result_per_query)\n",
    "    # 和 gt_top_k_indices 计算 recall  \n",
    "    for e in result_per_query:\n",
    "        if e in gt_top_k_indices[i]:\n",
    "            recall += 1\n",
    "    i += 1\n",
    "\n",
    "\n",
    "print(f'avg num of candidates: {num_cand / len(unseen_queries_2_seen_queries)}')       \n",
    "    \n",
    "                                "
   ]
  },
  {
   "cell_type": "code",
   "execution_count": 33,
   "metadata": {},
   "outputs": [
    {
     "data": {
      "text/plain": [
       "0.8492666666666666"
      ]
     },
     "execution_count": 33,
     "metadata": {},
     "output_type": "execute_result"
    }
   ],
   "source": [
    "    \n",
    "total_recall = recall / (len(unseen_queries_2_seen_queries) * k)\n",
    "total_recall"
   ]
  },
  {
   "cell_type": "code",
   "execution_count": 38,
   "metadata": {},
   "outputs": [
    {
     "name": "stderr",
     "output_type": "stream",
     "text": [
      "100%|██████████| 10/10 [03:08<00:00, 18.84s/it]\n"
     ]
    }
   ],
   "source": [
    "\n",
    "def calculate_recall(x):\n",
    "    i = 0\n",
    "    recall = 0\n",
    "    k = 100\n",
    "    k_cand = 1500\n",
    "    num_cand = 0\n",
    "    for unseen_idx, lst in unseen_queries_2_seen_queries.items():\n",
    "        result_per_query = set()\n",
    "        for seen_idx, _ in lst[:x]:\n",
    "            seen_idx_local = np.where(indices == seen_idx)[0][0]\n",
    "            top_k_cand_idx = np.argpartition(predictions[seen_idx_local], -k_cand)[-k_cand:]\n",
    "            result_per_query.update(top_k_cand_idx)\n",
    "        num_cand += len(result_per_query)\n",
    "        for e in result_per_query:\n",
    "            if e in gt_top_k_indices[i]:\n",
    "                recall += 1\n",
    "        i += 1\n",
    "    return num_cand / len(unseen_queries_2_seen_queries), recall / (len(unseen_queries_2_seen_queries)*k)\n",
    "\n",
    "x_values = [1, 2, 3, 4, 5, 6, 7, 8, 9, 10]\n",
    "avg_num_cand_values = []\n",
    "recall_values = []\n",
    "\n",
    "for x in tqdm(x_values):\n",
    "    avg_num_cand, recall = calculate_recall(x)\n",
    "    avg_num_cand_values.append(avg_num_cand)\n",
    "    recall_values.append(recall)\n"
   ]
  },
  {
   "cell_type": "code",
   "execution_count": 39,
   "metadata": {},
   "outputs": [
    {
     "data": {
      "image/png": "[encoded data removed]",
      "text/plain": [
       "<Figure size 1000x500 with 2 Axes>"
      ]
     },
     "metadata": {},
     "output_type": "display_data"
    }
   ],
   "source": [
    "\n",
    "plt.figure(figsize=(10, 5))\n",
    "\n",
    "plt.subplot(1, 2, 1)\n",
    "plt.plot(x_values, avg_num_cand_values, marker='o')\n",
    "plt.title('Average Number of Candidates')\n",
    "plt.xlabel('top-k seen queries')\n",
    "plt.ylabel('Average Number of Candidates')\n",
    "\n",
    "plt.subplot(1, 2, 2)\n",
    "plt.plot(x_values, recall_values, marker='o')\n",
    "plt.title('Recall')\n",
    "plt.xlabel('top-k seen queries')\n",
    "plt.ylabel('Recall')\n",
    "\n",
    "plt.tight_layout()\n",
    "plt.show()"
   ]
  }
 ],
 "metadata": {
  "kernelspec": {
   "display_name": "colbert",
   "language": "python",
   "name": "python3"
  },
  "language_info": {
   "codemirror_mode": {
    "name": "ipython",
    "version": 3
   },
   "file_extension": ".py",
   "mimetype": "text/x-python",
   "name": "python",
   "nbconvert_exporter": "python",
   "pygments_lexer": "ipython3",
   "version": "3.8.19"
  }
 },
 "nbformat": 4,
 "nbformat_minor": 2
}
